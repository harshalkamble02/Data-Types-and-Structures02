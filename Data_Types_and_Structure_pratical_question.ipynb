{
  "nbformat": 4,
  "nbformat_minor": 0,
  "metadata": {
    "colab": {
      "provenance": []
    },
    "kernelspec": {
      "name": "python3",
      "display_name": "Python 3"
    },
    "language_info": {
      "name": "python"
    }
  },
  "cells": [
    {
      "cell_type": "code",
      "execution_count": null,
      "metadata": {
        "id": "19Iy76g1s1cI"
      },
      "outputs": [],
      "source": [
        "# Q1 Write a code to create a string with your name and print it?\n",
        " \"\"\"Here's a simple Python program that creates a string with your name and prints it:\"\"\"\n",
        " # Create a string with your name\n",
        "my_name = \"Harshal Kamble\"\n",
        "\n",
        "# Print the string\n",
        "print(\"My name is:\", my_name)\n",
        "\n",
        "\n"
      ]
    },
    {
      "cell_type": "code",
      "source": [
        "#Q2 Write a code to find the length of the string \"Hello World\".\n",
        "# Define the string\n",
        "text = \"Hello World\"\n",
        "\n",
        "# Find and print the length of the string\n",
        "print(\"Length of the string:\", len(text))\n",
        "# The len() function returns the number of characters in the string, including spaces."
      ],
      "metadata": {
        "id": "_KRyQ_JxtrYF"
      },
      "execution_count": null,
      "outputs": []
    },
    {
      "cell_type": "code",
      "source": [
        "#Q3 Write a code to slice the first 3 characters from the string \"Python Programming\"?\n",
        "text = \"Python Programming\"\n",
        "\n",
        "# Slice the first 3 characters\n",
        "sliced_text = text[:3]\n",
        "\n",
        "print(\"First 3 characters:\", sliced_text)\n"
      ],
      "metadata": {
        "id": "hPlesTt9t5P1"
      },
      "execution_count": null,
      "outputs": []
    },
    {
      "cell_type": "code",
      "source": [
        "#Q4: Convert the string \"hello\" to uppercase\n",
        "text = \"hello\"\n",
        "\n",
        "# Convert to uppercase\n",
        "upper_text = text.upper()\n",
        "\n",
        "print(\"Uppercase:\", upper_text)\n"
      ],
      "metadata": {
        "id": "MwO6juifuKBW"
      },
      "execution_count": null,
      "outputs": []
    },
    {
      "cell_type": "code",
      "source": [
        "#Q5 Write a code to replace the word \"apple\" with \"orange\" in the string \"I like apple\"?\n",
        "text = \"I like apple\"\n",
        "\n",
        "# Replace \"apple\" with \"orange\"\n",
        "new_text = text.replace(\"apple\", \"orange\")\n",
        "\n",
        "print(new_text)\n"
      ],
      "metadata": {
        "id": "UjLdvlghuPzc"
      },
      "execution_count": null,
      "outputs": []
    },
    {
      "cell_type": "code",
      "source": [
        "#Q6 Write a code to create a list with numbers 1 to 5 and print it ?\n",
        "# Create a list with numbers 1 to 5\n",
        "numbers = [1, 2, 3, 4, 5]\n",
        "\n",
        "# Print the list\n",
        "print(\"List of numbers:\", numbers)\n"
      ],
      "metadata": {
        "id": "qzro8pCEuhbZ"
      },
      "execution_count": null,
      "outputs": []
    },
    {
      "cell_type": "code",
      "source": [
        "#7 Write a code to append the number 10 to the list [1, 2, 3, 4]?\n",
        "# Original list\n",
        "numbers = [1, 2, 3, 4]\n",
        "\n",
        "# Append 10 to the list\n",
        "numbers.append(10)\n",
        "\n",
        "# Print the updated list\n",
        "print(\"Updated list:\", numbers)\n"
      ],
      "metadata": {
        "id": "rQX-WFvYulmD"
      },
      "execution_count": null,
      "outputs": []
    },
    {
      "cell_type": "code",
      "source": [
        "# 8 Write a code to remove the number 3 from the list [1, 2, 3, 4, 5]?\n",
        "# Original list\n",
        "numbers = [1, 2, 3, 4, 5]\n",
        "\n",
        "# Remove 3 from the list\n",
        "numbers.remove(3)\n",
        "\n",
        "# Print the updated list\n",
        "print(\"Updated list:\", numbers)\n"
      ],
      "metadata": {
        "id": "qll2w9oozThQ"
      },
      "execution_count": null,
      "outputs": []
    },
    {
      "cell_type": "code",
      "source": [
        "#9 Write a code to access the second element in the list ['a', 'b', 'c', 'd']?\n",
        "# Define the list\n",
        "letters = ['a', 'b', 'c', 'd']\n",
        "\n",
        "# Access the second element (index 1)\n",
        "second_element = letters[1]\n",
        "\n",
        "# Print the second element\n",
        "print(\"Second element:\", second_element)\n"
      ],
      "metadata": {
        "id": "_PtuptgA0WyO"
      },
      "execution_count": null,
      "outputs": []
    },
    {
      "cell_type": "code",
      "source": [
        "# 10 Write a code to reverse the list [10, 20, 30, 40, 50].\n",
        "# Define the list\n",
        "numbers = [10, 20, 30, 40, 50]\n",
        "\n",
        "# Reverse the list\n",
        "numbers.reverse()\n",
        "\n",
        "# Print the reversed list\n",
        "print(\"Reversed list:\", numbers)\n"
      ],
      "metadata": {
        "id": "7NALdc--0ete"
      },
      "execution_count": null,
      "outputs": []
    },
    {
      "cell_type": "code",
      "source": [
        "#  11. Write a code to create a tuple with the elements 100, 200, 300 and print it.\n",
        "# Create the tuple\n",
        "numbers = (100, 200, 300)\n",
        "\n",
        "# Print the tuple\n",
        "print(\"Tuple:\", numbers)\n"
      ],
      "metadata": {
        "id": "QGkcOR_y0lYO"
      },
      "execution_count": null,
      "outputs": []
    },
    {
      "cell_type": "code",
      "source": [
        "# 12. Write a code to access the second-to-last element of the tuple ('red', 'green', 'blue', 'yellow').\n",
        "# Define the tuple\n",
        "colors = ('red', 'green', 'blue', 'yellow')\n",
        "\n",
        "# Access the second-to-last element (index -2)\n",
        "second_last = colors[-2]\n",
        "\n",
        "# Print the second-to-last element\n",
        "print(\"Second-to-last element:\", second_last)\n"
      ],
      "metadata": {
        "colab": {
          "base_uri": "https://localhost:8080/"
        },
        "id": "ns3NoABy0yxG",
        "outputId": "9d8a0164-ca09-43c5-8ea2-89cd6e9c06dc"
      },
      "execution_count": 1,
      "outputs": [
        {
          "output_type": "stream",
          "name": "stdout",
          "text": [
            "Second-to-last element: blue\n"
          ]
        }
      ]
    },
    {
      "cell_type": "code",
      "source": [
        "# 13. Write a code to find the minimum number in the tuple (10, 20, 5, 15)\n",
        "numbers = (10, 20, 5, 15)\n",
        "\n",
        "# Find the minimum number\n",
        "min_number = min(numbers)\n",
        "\n",
        "print(\"Minimum number:\", min_number)\n"
      ],
      "metadata": {
        "id": "smDbjrV308-7"
      },
      "execution_count": null,
      "outputs": []
    },
    {
      "cell_type": "code",
      "source": [
        "# 14. Write a code to find the index of the element \"cat\" in the tuple ('dog', 'cat', 'rabbit').\n",
        "animals = ('dog', 'cat', 'rabbit')\n",
        "\n",
        "# Find the index of \"cat\"\n",
        "index_of_cat = animals.index(\"cat\")\n",
        "\n",
        "print(\"Index of 'cat':\", index_of_cat)\n"
      ],
      "metadata": {
        "id": "jnv5MFPL1D2H"
      },
      "execution_count": null,
      "outputs": []
    },
    {
      "cell_type": "code",
      "source": [
        "# 15. Write a code to create a tuple containing three different fruits and check if \"kiwi\" is in it.\n",
        "fruits = (\"apple\", \"banana\", \"cherry\")\n",
        "\n",
        "# Check if \"kiwi\" is in the tuple\n",
        "is_kiwi_present = \"kiwi\" in fruits\n",
        "\n",
        "print(\"Is 'kiwi' in the tuple?\", is_kiwi_present)\n"
      ],
      "metadata": {
        "id": "3eCsm0g61F6A"
      },
      "execution_count": null,
      "outputs": []
    },
    {
      "cell_type": "code",
      "source": [
        "# 16. Write a code to create a set with the elements 'a', 'b', 'c' and print it.\n",
        "# Create the set\n",
        "my_set = {'a', 'b', 'c'}\n",
        "\n",
        "# Print the set\n",
        "print(\"Set:\", my_set)\n"
      ],
      "metadata": {
        "id": "L7RRir0c1Hx5"
      },
      "execution_count": null,
      "outputs": []
    },
    {
      "cell_type": "code",
      "source": [
        "#17. Write a code to clear all elements from the set {1, 2, 3, 4, 5}.\n",
        "my_set = {1, 2, 3, 4, 5}\n",
        "\n",
        "# Clear the set\n",
        "my_set.clear()\n",
        "\n",
        "print(\"Cleared set:\", my_set)\n"
      ],
      "metadata": {
        "id": "JasI3Dvb1dfx"
      },
      "execution_count": null,
      "outputs": []
    },
    {
      "cell_type": "code",
      "source": [
        "#18. Write a code to remove the element 4 from the set {1, 2, 3, 4}.\n",
        "my_set = {1, 2, 3, 4}\n",
        "\n",
        "# Remove the element 4\n",
        "my_set.remove(4)\n",
        "\n",
        "print(\"Updated set:\", my_set)\n"
      ],
      "metadata": {
        "id": "xa7uSSd-1oEO"
      },
      "execution_count": null,
      "outputs": []
    },
    {
      "cell_type": "code",
      "source": [
        "# 19. Write a code to find the union of two sets {1, 2, 3} and {3, 4, 5}.\n",
        "set1 = {1, 2, 3}\n",
        "set2 = {3, 4, 5}\n",
        "\n",
        "# Union of the sets\n",
        "union_set = set1.union(set2)\n",
        "\n",
        "print(\"Union:\", union_set)\n"
      ],
      "metadata": {
        "id": "2TBKRgnT1tNn"
      },
      "execution_count": null,
      "outputs": []
    },
    {
      "cell_type": "code",
      "source": [
        "# 20. Write a code to find the intersection of two sets {1, 2, 3} and {2, 3, 4}.\n",
        "set1 = {1, 2, 3}\n",
        "set2 = {2, 3, 4}\n",
        "\n",
        "# Intersection of the sets\n",
        "intersection_set = set1.intersection(set2)\n",
        "\n",
        "print(\"Intersection:\", intersection_set)\n"
      ],
      "metadata": {
        "id": "kOQGSlit1wqJ"
      },
      "execution_count": null,
      "outputs": []
    },
    {
      "cell_type": "code",
      "source": [
        "# 21. Write a code to create a dictionary with the keys \"name\", \"age\", and \"city\", and print it.\n",
        "# Create the dictionary\n",
        "person = {\n",
        "    \"name\": \"Harshal\",\n",
        "    \"age\": 21,\n",
        "    \"city\": \"Mumbai\"\n",
        "}\n",
        "\n",
        "# Print the dictionary\n",
        "print(\"Dictionary:\", person)\n"
      ],
      "metadata": {
        "id": "1TM2w8rz10aQ"
      },
      "execution_count": null,
      "outputs": []
    },
    {
      "cell_type": "code",
      "source": [
        "# 22. Write a code to add a new key-value pair \"country\": \"USA\" to the dictionary {'name': 'John', 'age': 25}.\n",
        "person = {'name': 'John', 'age': 25}\n",
        "\n",
        "# Add new key-value pair\n",
        "person['country'] = 'USA'\n",
        "\n",
        "print(\"Updated dictionary:\", person)\n",
        "\n"
      ],
      "metadata": {
        "id": "G9kMOT8-2CyS"
      },
      "execution_count": null,
      "outputs": []
    },
    {
      "cell_type": "code",
      "source": [
        "# 23. Write a code to access the value associated with the key \"name\" in the dictionary {'name': 'Alice', 'age': 30}.\n",
        "person = {'name': 'Alice', 'age': 30}\n",
        "\n",
        "# Access value\n",
        "name_value = person['name']\n",
        "\n",
        "print(\"Name:\", name_value)\n"
      ],
      "metadata": {
        "id": "Wf9zcUlm2bX9"
      },
      "execution_count": null,
      "outputs": []
    },
    {
      "cell_type": "code",
      "source": [
        "# 24. Write a code to remove the key \"age\" from the dictionary {'name': 'Bob', 'age': 22, 'city': 'New York'}.\n",
        "person = {'name': 'Bob', 'age': 22, 'city': 'New York'}\n",
        "\n",
        "# Remove 'age'\n",
        "del person['age']\n",
        "\n",
        "print(\"Updated dictionary:\", person)\n"
      ],
      "metadata": {
        "id": "F8feMlQn2dGU"
      },
      "execution_count": null,
      "outputs": []
    },
    {
      "cell_type": "code",
      "source": [
        "# 25. Write a code to check if the key \"city\" exists in the dictionary {'name': 'Alice', 'city': 'Paris'}.\n",
        "person = {'name': 'Alice', 'city': 'Paris'}\n",
        "\n",
        "# Check key existence\n",
        "if 'city' in person:\n",
        "    print(\"Key 'city' exists.\")\n",
        "else:\n",
        "    print(\"Key 'city' does not exist.\")\n"
      ],
      "metadata": {
        "id": "eavwleL-2hS3"
      },
      "execution_count": null,
      "outputs": []
    },
    {
      "cell_type": "code",
      "source": [
        "# 26. Write a code to create a list, a tuple, and a dictionary, and print them all.\n",
        "my_list = [1, 2, 3]\n",
        "my_tuple = ('a', 'b', 'c')\n",
        "my_dict = {'x': 10, 'y': 20}\n",
        "\n",
        "print(\"List:\", my_list)\n",
        "print(\"Tuple:\", my_tuple)\n",
        "print(\"Dictionary:\", my_dict)\n"
      ],
      "metadata": {
        "id": "an2jPqkB2lWQ"
      },
      "execution_count": null,
      "outputs": []
    },
    {
      "cell_type": "code",
      "source": [
        "# 27. Write a code to create a list of 5 random numbers between 1 and 100, sort it in ascending order, and print the result.(replaced)\n",
        "import random\n",
        "\n",
        "# Generate 5 random numbers\n",
        "random_numbers = random.sample(range(1, 101), 5)\n",
        "\n",
        "# Sort in ascending order\n",
        "random_numbers.sort()\n",
        "\n",
        "print(\"Sorted random numbers:\", random_numbers)\n"
      ],
      "metadata": {
        "id": "XjvNNVnL2omZ"
      },
      "execution_count": null,
      "outputs": []
    },
    {
      "cell_type": "code",
      "source": [
        "# 28. Write a code to create a list with strings and print the element at the third index.\n",
        "my_strings = [\"apple\", \"banana\", \"cherry\", \"date\", \"elderberry\"]\n",
        "\n",
        "# Access element at index 3\n",
        "print(\"Element at index 3:\", my_strings[3])\n"
      ],
      "metadata": {
        "id": "rZrPX3VD2yVg"
      },
      "execution_count": null,
      "outputs": []
    },
    {
      "cell_type": "code",
      "source": [
        "# 29. Write a code to combine two dictionaries into one and print the result.\n",
        "dict1 = {'a': 1, 'b': 2}\n",
        "dict2 = {'c': 3, 'd': 4}\n",
        "\n",
        "# Combine\n",
        "combined = {**dict1, **dict2}\n",
        "\n",
        "print(\"Combined dictionary:\", combined)\n"
      ],
      "metadata": {
        "id": "gunCin-320gf"
      },
      "execution_count": null,
      "outputs": []
    },
    {
      "cell_type": "code",
      "source": [
        "# 30. Write a code to convert a list of strings into a set\n",
        "string_list = [\"apple\", \"banana\", \"cherry\", \"banana\"]\n",
        "\n",
        "# Convert to set\n",
        "string_set = set(string_list)\n",
        "\n",
        "print(\"Set:\", string_set)\n"
      ],
      "metadata": {
        "id": "JVP6WPat23vE"
      },
      "execution_count": null,
      "outputs": []
    }
  ]
}